{
 "cells": [
  {
   "cell_type": "markdown",
   "metadata": {
    "toc": true
   },
   "source": [
    "<h1>Содержание<span class=\"tocSkip\"></span></h1>\n",
    "<div class=\"toc\"><ul class=\"toc-item\"><li><span><a href=\"#Data-preparation\" data-toc-modified-id=\"Data-preparation-1\"><span class=\"toc-item-num\">1&nbsp;&nbsp;</span>Data preparation</a></span></li><li><span><a href=\"#Task-research\" data-toc-modified-id=\"Task-research-2\"><span class=\"toc-item-num\">2&nbsp;&nbsp;</span>Task research</a></span></li><li><span><a href=\"#Fighting-the-imbalance\" data-toc-modified-id=\"Fighting-the-imbalance-3\"><span class=\"toc-item-num\">3&nbsp;&nbsp;</span>Fighting the imbalance</a></span><ul class=\"toc-item\"><li><span><a href=\"#Balanced\" data-toc-modified-id=\"Balanced-3.1\"><span class=\"toc-item-num\">3.1&nbsp;&nbsp;</span>Balanced</a></span></li><li><span><a href=\"#Upsampled\" data-toc-modified-id=\"Upsampled-3.2\"><span class=\"toc-item-num\">3.2&nbsp;&nbsp;</span>Upsampled</a></span></li><li><span><a href=\"#Downsampled\" data-toc-modified-id=\"Downsampled-3.3\"><span class=\"toc-item-num\">3.3&nbsp;&nbsp;</span>Downsampled</a></span></li></ul></li><li><span><a href=\"#Testing-the-model\" data-toc-modified-id=\"Testing-the-model-4\"><span class=\"toc-item-num\">4&nbsp;&nbsp;</span>Testing the model</a></span></li></ul></div>"
   ]
  },
  {
   "cell_type": "markdown",
   "metadata": {},
   "source": [
    "# Customer outflow"
   ]
  },
  {
   "cell_type": "markdown",
   "metadata": {},
   "source": [
    "Customers began to leave Beta Bank. Every month. A little, but noticeable. Bank marketers have calculated that it is cheaper to retain current customers than to attract new ones.\n",
    "\n",
    "It is necessary to predict whether the client will leave the bank in the near future or not. You are presented with historical data on the behavior of customers and the termination of contracts with the bank. \n",
    "\n",
    "Build a model with an extremely large value of *F1*-measures. To pass the project successfully, you need to bring the metric to 0.59. Check the *F1* measure on the test sample yourself.\n",
    "\n",
    "Additionally measure *AUC-ROC*, compare its value with *F1*-measure.\n",
    "\n",
    "Data source: [https://www.kaggle.com/barelydedicated/bank-customer-churn-modeling](https://www.kaggle.com/barelydedicated/bank-customer-churn-modeling)"
   ]
  },
  {
   "cell_type": "markdown",
   "metadata": {},
   "source": [
    "## Data preparation"
   ]
  },
  {
   "cell_type": "markdown",
   "metadata": {},
   "source": [
    "Import the libraries needed for the study and prepare the data:"
   ]
  },
  {
   "cell_type": "code",
   "execution_count": 1,
   "metadata": {},
   "outputs": [],
   "source": [
    "import pandas as pd\n",
    "import matplotlib.pyplot as plt\n",
    "\n",
    "from sklearn.tree import DecisionTreeClassifier\n",
    "from sklearn.ensemble import RandomForestClassifier\n",
    "from sklearn.linear_model import LogisticRegression\n",
    "\n",
    "from sklearn.metrics import f1_score\n",
    "from sklearn.metrics import mean_absolute_error\n",
    "from sklearn.metrics import roc_auc_score\n",
    "from sklearn.metrics import roc_curve\n",
    "\n",
    "from sklearn.preprocessing import OneHotEncoder\n",
    "from sklearn.preprocessing import StandardScaler\n",
    "\n",
    "from sklearn.utils import shuffle\n",
    "\n",
    "from sklearn.model_selection import train_test_split"
   ]
  },
  {
   "cell_type": "code",
   "execution_count": 2,
   "metadata": {},
   "outputs": [
    {
     "name": "stdout",
     "output_type": "stream",
     "text": [
      "<class 'pandas.core.frame.DataFrame'>\n",
      "RangeIndex: 10000 entries, 0 to 9999\n",
      "Data columns (total 11 columns):\n",
      " #   Column           Non-Null Count  Dtype  \n",
      "---  ------           --------------  -----  \n",
      " 0   CreditScore      10000 non-null  int64  \n",
      " 1   Geography        10000 non-null  object \n",
      " 2   Gender           10000 non-null  object \n",
      " 3   Age              10000 non-null  int64  \n",
      " 4   Tenure           10000 non-null  object \n",
      " 5   Balance          10000 non-null  float64\n",
      " 6   NumOfProducts    10000 non-null  int64  \n",
      " 7   HasCrCard        10000 non-null  int64  \n",
      " 8   IsActiveMember   10000 non-null  int64  \n",
      " 9   EstimatedSalary  10000 non-null  float64\n",
      " 10  Exited           10000 non-null  int64  \n",
      "dtypes: float64(2), int64(6), object(3)\n",
      "memory usage: 859.5+ KB\n",
      "None\n",
      "        CreditScore           Age        Balance  NumOfProducts    HasCrCard  \\\n",
      "count  10000.000000  10000.000000   10000.000000   10000.000000  10000.00000   \n",
      "mean     650.528800     38.921800   76485.889288       1.530200      0.70550   \n",
      "std       96.653299     10.487806   62397.405202       0.581654      0.45584   \n",
      "min      350.000000     18.000000       0.000000       1.000000      0.00000   \n",
      "25%      584.000000     32.000000       0.000000       1.000000      0.00000   \n",
      "50%      652.000000     37.000000   97198.540000       1.000000      1.00000   \n",
      "75%      718.000000     44.000000  127644.240000       2.000000      1.00000   \n",
      "max      850.000000     92.000000  250898.090000       4.000000      1.00000   \n",
      "\n",
      "       IsActiveMember  EstimatedSalary        Exited  \n",
      "count    10000.000000     10000.000000  10000.000000  \n",
      "mean         0.515100    100090.239881      0.203700  \n",
      "std          0.499797     57510.492818      0.402769  \n",
      "min          0.000000        11.580000      0.000000  \n",
      "25%          0.000000     51002.110000      0.000000  \n",
      "50%          1.000000    100193.915000      0.000000  \n",
      "75%          1.000000    149388.247500      0.000000  \n",
      "max          1.000000    199992.480000      1.000000  \n"
     ]
    }
   ],
   "source": [
    "data = pd.read_csv('datasets/Churn.csv')\n",
    "data = data.drop(['Surname', 'RowNumber', 'CustomerId'], axis=1)\n",
    "data['Tenure'] = data.fillna(data['Tenure'].median())\n",
    "\n",
    "print(data.info())\n",
    "print(data.describe())"
   ]
  },
  {
   "cell_type": "code",
   "execution_count": 3,
   "metadata": {},
   "outputs": [
    {
     "name": "stdout",
     "output_type": "stream",
     "text": [
      "(6000, 10)\n",
      "(2000, 10)\n",
      "(2000, 10)\n",
      "(6000,)\n",
      "(2000,)\n",
      "(2000,)\n"
     ]
    }
   ],
   "source": [
    "target = data['Exited']\n",
    "features = data.drop(['Exited'], axis=1)\n",
    "\n",
    "features_train, features_test, target_train, target_test = (\n",
    "    train_test_split(features,\n",
    "                     target,\n",
    "                     test_size=.2,\n",
    "                     random_state=12345)\n",
    ")\n",
    "\n",
    "features_train, features_valid, target_train, target_valid = (\n",
    "    train_test_split(features_train,\n",
    "                    target_train,\n",
    "                     test_size=.25,\n",
    "                    random_state=12345)\n",
    ")\n",
    "\n",
    "print(features_train.shape)\n",
    "print(features_valid.shape)\n",
    "print(features_test.shape)\n",
    "print(target_train.shape)\n",
    "print(target_valid.shape)\n",
    "print(target_test.shape)"
   ]
  },
  {
   "cell_type": "markdown",
   "metadata": {},
   "source": [
    "Let's scale the data."
   ]
  },
  {
   "cell_type": "code",
   "execution_count": 4,
   "metadata": {},
   "outputs": [],
   "source": [
    "def upsample(features, target, repeat):\n",
    "    features_zeros = features[target == 0]\n",
    "    features_ones = features[target == 1]\n",
    "    target_zeros = target[target == 0]\n",
    "    target_ones = target[target == 1]\n",
    "    \n",
    "    features_upsampled = pd.concat([features_zeros] + [features_ones] * repeat)\n",
    "    target_upsampled = pd.concat([target_zeros] + [target_ones] * repeat)\n",
    "    \n",
    "    features_upsampled, target_upsampled = (\n",
    "        shuffle(features_upsampled, target_upsampled, random_state=12345)\n",
    "    )\n",
    "    \n",
    "    return features_upsampled, target_upsampled\n",
    "\n",
    "def downsample(features, target, frac):\n",
    "    features_zeros = features[target == 0]\n",
    "    features_ones = features[target == 1]\n",
    "    target_zeros = target[target == 0]\n",
    "    target_ones = target[target == 1]\n",
    "    \n",
    "    features_downsampled = pd.concat([features_zeros] + [features_ones.sample(frac=frac, random_state=12345)])\n",
    "    target_downsampled = pd.concat([target_zeros] + [target_ones.sample(frac=frac, random_state=12345)])\n",
    "    \n",
    "    features_downsampled, target_downsampled = (\n",
    "        shuffle(features_downsampled, target_downsampled, random_state=12345)\n",
    "    )\n",
    "    \n",
    "    return features_downsampled, target_downsampled\n"
   ]
  },
  {
   "cell_type": "code",
   "execution_count": 5,
   "metadata": {},
   "outputs": [
    {
     "name": "stdout",
     "output_type": "stream",
     "text": [
      "(9657, 10)\n",
      "(9657,)\n",
      "(5025, 10)\n",
      "(5025,)\n"
     ]
    }
   ],
   "source": [
    "features_train_upsampled, target_train_upsampled = upsample(features_train, target_train, 4)\n",
    "print(features_train_upsampled.shape)\n",
    "print(target_train_upsampled.shape)\n",
    "\n",
    "features_train_downsampled, target_train_downsampled = downsample(features_train, target_train, .2)\n",
    "print(features_train_downsampled.shape)\n",
    "print(target_train_downsampled.shape)"
   ]
  },
  {
   "cell_type": "markdown",
   "metadata": {},
   "source": [
    "Encode the dataset using the One Hot Encoding method and perform upsampling."
   ]
  },
  {
   "cell_type": "code",
   "execution_count": 6,
   "metadata": {},
   "outputs": [
    {
     "name": "stdout",
     "output_type": "stream",
     "text": [
      "(9657, 10819)\n",
      "(6000, 10819)\n",
      "(2000, 10819)\n",
      "(2000, 10819)\n"
     ]
    }
   ],
   "source": [
    "encoder = OneHotEncoder(handle_unknown='ignore')\n",
    "\n",
    "features_train_upsampled = encoder.fit_transform(features_train_upsampled, target_train_upsampled)\n",
    "features_train_ohe = encoder.transform(features_train)\n",
    "features_valid_ohe = encoder.transform(features_valid)\n",
    "features_test_ohe = encoder.transform(features_test)\n",
    "\n",
    "\n",
    "print(features_train_upsampled.shape)\n",
    "print(features_train_ohe.shape)\n",
    "print(features_valid_ohe.shape)\n",
    "print(features_test_ohe.shape)"
   ]
  },
  {
   "cell_type": "markdown",
   "metadata": {},
   "source": [
    "Conduct downsampling of the features."
   ]
  },
  {
   "cell_type": "code",
   "execution_count": 7,
   "metadata": {},
   "outputs": [
    {
     "name": "stdout",
     "output_type": "stream",
     "text": [
      "(5025, 9069)\n",
      "(6000, 9069)\n",
      "(2000, 9069)\n",
      "(2000, 9069)\n"
     ]
    }
   ],
   "source": [
    "features_train_downsampled = encoder.fit_transform(features_train_downsampled, target_train_downsampled)\n",
    "features_train_down = encoder.transform(features_train)\n",
    "features_valid_down = encoder.transform(features_valid)\n",
    "features_test_down = encoder.transform(features_test)\n",
    "\n",
    "print(features_train_downsampled.shape)\n",
    "print(features_train_down.shape)\n",
    "print(features_valid_down.shape)\n",
    "print(features_test_down.shape)"
   ]
  },
  {
   "cell_type": "markdown",
   "metadata": {},
   "source": [
    "Features such as Last Name, Line Number and Unique Identification Number have been removed from the dataset, as they are uninformative and do not give any idea about the behavior and actions of customers."
   ]
  },
  {
   "cell_type": "markdown",
   "metadata": {},
   "source": [
    "## Task research"
   ]
  },
  {
   "cell_type": "markdown",
   "metadata": {},
   "source": [
    "Standardize the data using the Standard Scaler method"
   ]
  },
  {
   "cell_type": "code",
   "execution_count": 8,
   "metadata": {},
   "outputs": [
    {
     "name": "stdout",
     "output_type": "stream",
     "text": [
      "(9657, 10819)\n",
      "(6000, 10819)\n",
      "(2000, 10819)\n",
      "(2000, 10819)\n"
     ]
    }
   ],
   "source": [
    "scaler = StandardScaler(with_mean=False)\n",
    "\n",
    "features_train_upsampled = scaler.fit_transform(features_train_upsampled)\n",
    "features_train_ohe = scaler.transform(features_train_ohe)\n",
    "features_valid_ohe = scaler.transform(features_valid_ohe)\n",
    "features_test_ohe = scaler.transform(features_test_ohe)\n",
    "\n",
    "\n",
    "print(features_train_upsampled.shape)\n",
    "print(features_train_ohe.shape)\n",
    "print(features_valid_ohe.shape)\n",
    "print(features_test_ohe.shape)"
   ]
  },
  {
   "cell_type": "code",
   "execution_count": 9,
   "metadata": {},
   "outputs": [
    {
     "name": "stdout",
     "output_type": "stream",
     "text": [
      "(5025, 9069)\n",
      "(6000, 9069)\n",
      "(2000, 9069)\n",
      "(2000, 9069)\n"
     ]
    }
   ],
   "source": [
    "features_train_downsampled = scaler.fit_transform(features_train_downsampled)\n",
    "features_train_down = scaler.transform(features_train_down)\n",
    "features_valid_down = scaler.transform(features_valid_down)\n",
    "features_test_down = scaler.transform(features_test_down)\n",
    "\n",
    "print(features_train_downsampled.shape)\n",
    "print(features_train_down.shape)\n",
    "print(features_valid_down.shape)\n",
    "print(features_test_down.shape)"
   ]
  },
  {
   "cell_type": "markdown",
   "metadata": {},
   "source": [
    "Train the Random Forest model."
   ]
  },
  {
   "cell_type": "code",
   "execution_count": 10,
   "metadata": {},
   "outputs": [
    {
     "name": "stdout",
     "output_type": "stream",
     "text": [
      "Лучшая модель: F1 = 0.24724061810154527, depth = 50, n_estimators = 20\n"
     ]
    }
   ],
   "source": [
    "best_model_f1 = 0\n",
    "depth = 0\n",
    "n_estimatores = 0\n",
    "\n",
    "for n_est in range(10, 101, 10):\n",
    "    for depth in range(1, 51, 1):\n",
    "        model = RandomForestClassifier(\n",
    "            random_state=12345, \n",
    "            max_depth=depth, \n",
    "            n_estimators=n_est)\n",
    "        model.fit(features_train_ohe, target_train)\n",
    "        predictions_valid = model.predict(features_valid_ohe)\n",
    "        f1_valid = f1_score(target_valid, predictions_valid)\n",
    "        if f1_valid > best_model_f1:\n",
    "            best_model_f1 = f1_valid\n",
    "            depth = depth\n",
    "            n_estimators = n_est\n",
    "            \n",
    "print(f'Best model: F1 = {best_model_f1}, depth = {depth}, n_estimators = {n_estimators}')"
   ]
  },
  {
   "cell_type": "markdown",
   "metadata": {},
   "source": [
    "Train the Decision Tree model."
   ]
  },
  {
   "cell_type": "code",
   "execution_count": 11,
   "metadata": {},
   "outputs": [
    {
     "name": "stdout",
     "output_type": "stream",
     "text": [
      "Лучшая модель: F1 = 0.5067873303167421, depth = 50\n"
     ]
    }
   ],
   "source": [
    "best_model_f1 = 0\n",
    "depth = 0\n",
    "for depth in range(1, 51, 1):\n",
    "    model = DecisionTreeClassifier(random_state=12345, max_depth=depth)\n",
    "    model.fit(features_train_ohe, target_train)\n",
    "    predicted_valid = model.predict(features_valid_ohe)\n",
    "    f1 = f1_score(target_valid, predicted_valid)\n",
    "    if f1 > best_model_f1:\n",
    "        best_model_f1 = f1\n",
    "        depth = depth\n",
    "        \n",
    "print(f'Best model: F1 = {best_model_f1}, depth = {depth}')"
   ]
  },
  {
   "cell_type": "markdown",
   "metadata": {},
   "source": [
    "Train the Logistic Regression model."
   ]
  },
  {
   "cell_type": "code",
   "execution_count": 12,
   "metadata": {},
   "outputs": [
    {
     "name": "stdout",
     "output_type": "stream",
     "text": [
      "Лучшая модель: F1 = 0.5085130533484676\n"
     ]
    }
   ],
   "source": [
    "model = LogisticRegression(random_state=12345, solver='liblinear')\n",
    "model.fit(features_train_ohe, target_train)\n",
    "predicted_valid = model.predict(features_valid_ohe)\n",
    "f1 = f1_score(target_valid, predicted_valid)\n",
    "print(f'Best model: F1 = {f1}')\n"
   ]
  },
  {
   "cell_type": "markdown",
   "metadata": {},
   "source": [
    "The best indicator for the F1 metric without taking into account the data imbalance was shown by the Logistic Regression model, the worst was Random Forest."
   ]
  },
  {
   "cell_type": "markdown",
   "metadata": {},
   "source": [
    "## Fighting the imbalance"
   ]
  },
  {
   "cell_type": "markdown",
   "metadata": {},
   "source": [
    "### Balanced"
   ]
  },
  {
   "cell_type": "markdown",
   "metadata": {},
   "source": [
    "Train a Random Forest model with class_weight='balanced' attributes."
   ]
  },
  {
   "cell_type": "code",
   "execution_count": 13,
   "metadata": {},
   "outputs": [
    {
     "name": "stdout",
     "output_type": "stream",
     "text": [
      "Лучшая модель: F1 = 0.5765306122448979, depth = 50, n_estimators = 70\n"
     ]
    }
   ],
   "source": [
    "best_model_f1 = 0\n",
    "depth = 0\n",
    "n_estimatores = 0\n",
    "\n",
    "for n_est in range(10, 101, 10):\n",
    "    for depth in range(1, 51, 1):\n",
    "        model = RandomForestClassifier(\n",
    "            class_weight='balanced',\n",
    "            random_state=12345, \n",
    "            max_depth=depth, \n",
    "            n_estimators=n_est)\n",
    "        model.fit(features_train_ohe, target_train)\n",
    "        predictions_valid = model.predict(features_valid_ohe)\n",
    "        f1_valid = f1_score(target_valid, predictions_valid)\n",
    "        if f1_valid > best_model_f1:\n",
    "            best_model_f1 = f1_valid\n",
    "            depth = depth\n",
    "            n_estimators = n_est\n",
    "            \n",
    "print(f'Best model: F1 = {best_model_f1}, depth = {depth}, n_estimators = {n_estimators}')"
   ]
  },
  {
   "cell_type": "markdown",
   "metadata": {},
   "source": [
    "Train the Decision Tree model with class_weight='balanced' attributes."
   ]
  },
  {
   "cell_type": "code",
   "execution_count": 14,
   "metadata": {},
   "outputs": [
    {
     "name": "stdout",
     "output_type": "stream",
     "text": [
      "Лучшая модель: F1 = 0.5296251511487304, depth = 50\n"
     ]
    }
   ],
   "source": [
    "best_model_f1 = 0\n",
    "depth = 0\n",
    "for depth in range(1, 51, 1):\n",
    "    model = DecisionTreeClassifier(class_weight='balanced', random_state=12345, max_depth=depth)\n",
    "    model.fit(features_train_ohe, target_train)\n",
    "    predicted_valid = model.predict(features_valid_ohe)\n",
    "    f1 = f1_score(target_valid, predicted_valid)\n",
    "    if f1 > best_model_f1:\n",
    "        best_model_f1 = f1\n",
    "        depth = depth\n",
    "        \n",
    "print(f'Best model: F1 = {best_model_f1}, depth = {depth}')"
   ]
  },
  {
   "cell_type": "markdown",
   "metadata": {},
   "source": [
    "Train a Linear Regression model with class_weight='balanced' attributes."
   ]
  },
  {
   "cell_type": "code",
   "execution_count": 15,
   "metadata": {},
   "outputs": [
    {
     "name": "stdout",
     "output_type": "stream",
     "text": [
      "Лучшая модель: F1 = 0.4995159728944821\n"
     ]
    }
   ],
   "source": [
    "model = LogisticRegression(class_weight='balanced', random_state=12345, solver='liblinear')\n",
    "model.fit(features_train_ohe, target_train)\n",
    "predicted_valid = model.predict(features_valid_ohe)\n",
    "f1 = f1_score(target_valid, predicted_valid)\n",
    "print(f'Лучшая модель: F1 = {f1}')\n"
   ]
  },
  {
   "cell_type": "markdown",
   "metadata": {},
   "source": [
    "The best indicator for the F1 metric was shown by the Random Forest model, the worst - Linear Regression."
   ]
  },
  {
   "cell_type": "markdown",
   "metadata": {},
   "source": [
    "### Upsampled"
   ]
  },
  {
   "cell_type": "markdown",
   "metadata": {},
   "source": [
    "Train a Random Forest model with upsampled features."
   ]
  },
  {
   "cell_type": "code",
   "execution_count": 16,
   "metadata": {},
   "outputs": [
    {
     "name": "stdout",
     "output_type": "stream",
     "text": [
      "Лучшая модель: F1 = 0.5805714285714285, depth = 50, n_estimators = 100\n"
     ]
    }
   ],
   "source": [
    "best_model_f1 = 0\n",
    "depth = 0\n",
    "n_estimatores = 0\n",
    "\n",
    "for n_est in range(10, 101, 10):\n",
    "    for depth in range(1, 51, 1):\n",
    "        model = RandomForestClassifier(\n",
    "            class_weight='balanced',\n",
    "            random_state=12345, \n",
    "            max_depth=depth, \n",
    "            n_estimators=n_est)\n",
    "        model.fit(features_train_upsampled, target_train_upsampled)\n",
    "        predictions_valid = model.predict(features_valid_ohe)\n",
    "        f1_valid = f1_score(target_valid, predictions_valid)\n",
    "        if f1_valid > best_model_f1:\n",
    "            best_model_f1 = f1_valid\n",
    "            depth = depth\n",
    "            n_estimators = n_est\n",
    "            \n",
    "print(f'Best model: F1 = {best_model_f1}, depth = {depth}, n_estimators = {n_estimators}')"
   ]
  },
  {
   "cell_type": "markdown",
   "metadata": {},
   "source": [
    "Train a Decision Tree model with upsampled features."
   ]
  },
  {
   "cell_type": "code",
   "execution_count": 17,
   "metadata": {},
   "outputs": [
    {
     "name": "stdout",
     "output_type": "stream",
     "text": [
      "Лучшая модель: F1 = 0.5289672544080605, depth = 50\n"
     ]
    }
   ],
   "source": [
    "best_model_f1 = 0\n",
    "depth = 0\n",
    "for depth in range(1, 51, 1):\n",
    "    model = DecisionTreeClassifier(class_weight='balanced', random_state=12345, max_depth=depth)\n",
    "    model.fit(features_train_upsampled, target_train_upsampled)\n",
    "    predicted_valid = model.predict(features_valid_ohe)\n",
    "    f1 = f1_score(target_valid, predicted_valid)\n",
    "    if f1 > best_model_f1:\n",
    "        best_model_f1 = f1\n",
    "        depth = depth\n",
    "        \n",
    "print(f'Best model: F1 = {best_model_f1}, depth = {depth}')"
   ]
  },
  {
   "cell_type": "markdown",
   "metadata": {},
   "source": [
    "Train a Linear Regression model with upsampled features."
   ]
  },
  {
   "cell_type": "code",
   "execution_count": 18,
   "metadata": {},
   "outputs": [
    {
     "name": "stdout",
     "output_type": "stream",
     "text": [
      "Лучшая модель: F1 = 0.5004849660523764\n"
     ]
    }
   ],
   "source": [
    "model = LogisticRegression(class_weight='balanced', random_state=12345, solver='liblinear')\n",
    "model.fit(features_train_upsampled, target_train_upsampled)\n",
    "predicted_valid = model.predict(features_valid_ohe)\n",
    "f1 = f1_score(target_valid, predicted_valid)\n",
    "print(f'Best model: F1 = {f1}')\n"
   ]
  },
  {
   "cell_type": "markdown",
   "metadata": {},
   "source": [
    "The best indicator for the F1 metric was again shown by the Random Forest model, the worst - Linear Regression."
   ]
  },
  {
   "cell_type": "markdown",
   "metadata": {},
   "source": [
    "### Downsampled"
   ]
  },
  {
   "cell_type": "markdown",
   "metadata": {},
   "source": [
    "Train a Random Forest model with downsampled features."
   ]
  },
  {
   "cell_type": "code",
   "execution_count": 19,
   "metadata": {},
   "outputs": [
    {
     "name": "stdout",
     "output_type": "stream",
     "text": [
      "Лучшая модель: F1 = 0.5298165137614679, depth = 50, n_estimators = 100\n"
     ]
    }
   ],
   "source": [
    "best_model_f1 = 0\n",
    "depth = 0\n",
    "n_estimatores = 0\n",
    "\n",
    "for n_est in range(10, 101, 10):\n",
    "    for depth in range(1, 51, 1):\n",
    "        model = RandomForestClassifier(\n",
    "            class_weight='balanced',\n",
    "            random_state=12345, \n",
    "            max_depth=depth, \n",
    "            n_estimators=n_est)\n",
    "        model.fit(features_train_downsampled, target_train_downsampled)\n",
    "        predictions_valid = model.predict(features_valid_down)\n",
    "        f1_valid = f1_score(target_valid, predictions_valid)\n",
    "        if f1_valid > best_model_f1:\n",
    "            best_model_f1 = f1_valid\n",
    "            depth = depth\n",
    "            n_estimators = n_est\n",
    "            \n",
    "print(f'Best model: F1 = {best_model_f1}, depth = {depth}, n_estimators = {n_estimators}')"
   ]
  },
  {
   "cell_type": "markdown",
   "metadata": {},
   "source": [
    "Train a Decision Tree model with downsampled features."
   ]
  },
  {
   "cell_type": "code",
   "execution_count": 20,
   "metadata": {},
   "outputs": [
    {
     "name": "stdout",
     "output_type": "stream",
     "text": [
      "Лучшая модель: F1 = 0.5185185185185185, depth = 50\n"
     ]
    }
   ],
   "source": [
    "best_model_f1 = 0\n",
    "depth = 0\n",
    "for depth in range(1, 51, 1):\n",
    "    model = DecisionTreeClassifier(class_weight='balanced', random_state=12345, max_depth=depth)\n",
    "    model.fit(features_train_downsampled, target_train_downsampled)\n",
    "    predicted_valid = model.predict(features_valid_down)\n",
    "    f1 = f1_score(target_valid, predicted_valid)\n",
    "    if f1 > best_model_f1:\n",
    "        best_model_f1 = f1\n",
    "        depth = depth\n",
    "        \n",
    "print(f'Best model: F1 = {best_model_f1}, depth = {depth}')"
   ]
  },
  {
   "cell_type": "markdown",
   "metadata": {},
   "source": [
    "Train a Linear Regression model with downsampled features."
   ]
  },
  {
   "cell_type": "code",
   "execution_count": 21,
   "metadata": {},
   "outputs": [
    {
     "name": "stdout",
     "output_type": "stream",
     "text": [
      "Лучшая модель: F1 = 0.05405405405405405\n"
     ]
    }
   ],
   "source": [
    "model = LogisticRegression(class_weight='balanced', random_state=12345, solver='liblinear')\n",
    "model.fit(features_train_downsampled, target_train_downsampled)\n",
    "predicted_valid = model.predict(features_valid_down)\n",
    "f1 = f1_score(target_valid, predicted_valid)\n",
    "print(f'Лучшая модель: F1 = {f1}')\n"
   ]
  },
  {
   "cell_type": "markdown",
   "metadata": {},
   "source": [
    "The best indicator for the F1 metric was shown by the Random Forest model, the worst - Logistic Regression."
   ]
  },
  {
   "cell_type": "markdown",
   "metadata": {},
   "source": [
    "## Testing the model"
   ]
  },
  {
   "cell_type": "markdown",
   "metadata": {},
   "source": [
    "Testing the Random Forest model on balanced data."
   ]
  },
  {
   "cell_type": "code",
   "execution_count": 22,
   "metadata": {},
   "outputs": [
    {
     "name": "stdout",
     "output_type": "stream",
     "text": [
      "Лучшая модель: F1 = 0.5970149253731344, depth = 50, n_estimators = 30\n"
     ]
    }
   ],
   "source": [
    "best_model_RF = None\n",
    "best_model_f1 = 0\n",
    "depth = 0\n",
    "n_estimatores = 0\n",
    "\n",
    "for n_est in range(10, 101, 10):\n",
    "    for depth in range(1, 51, 1):\n",
    "        model = RandomForestClassifier(\n",
    "            class_weight='balanced_subsample',\n",
    "            random_state=12345, \n",
    "            max_depth=depth, \n",
    "            n_estimators=n_est)\n",
    "        model.fit(features_train_upsampled, target_train_upsampled)\n",
    "        predictions_test = model.predict(features_test_ohe)\n",
    "        f1_valid = f1_score(target_test, predictions_test)\n",
    "        if f1_valid > best_model_f1:\n",
    "            best_model_RF = model\n",
    "            best_model_f1 = f1_valid\n",
    "            depth = depth\n",
    "            n_estimators = n_est\n",
    "            \n",
    "print(f'Best model: F1 = {best_model_f1}, depth = {depth}, n_estimators = {n_estimators}')"
   ]
  },
  {
   "cell_type": "markdown",
   "metadata": {},
   "source": [
    "On the test sample, the Random Forest model shows the value of the F1 metric equal to ~0.60"
   ]
  },
  {
   "cell_type": "markdown",
   "metadata": {},
   "source": [
    "Let's measure the AUC-ROC metric and compare its value with the F1 metric."
   ]
  },
  {
   "cell_type": "code",
   "execution_count": 23,
   "metadata": {},
   "outputs": [
    {
     "data": {
      "image/png": "[encoded data removed]",
      "text/plain": [
       "<Figure size 432x288 with 1 Axes>"
      ]
     },
     "metadata": {
      "needs_background": "light"
     },
     "output_type": "display_data"
    },
    {
     "name": "stdout",
     "output_type": "stream",
     "text": [
      "Значение метрики AUC-ROC: 0.825523954436026\n"
     ]
    }
   ],
   "source": [
    "probabilities_test = best_model_RF.predict_proba(features_test_ohe)\n",
    "probabilities_one_test = probabilities_test[:, 1]\n",
    "\n",
    "fpr, tpr, thresholds = roc_curve(target_test, probabilities_one_test)\n",
    "\n",
    "plt.figure()\n",
    "\n",
    "plt.plot(fpr, tpr)\n",
    "\n",
    "plt.plot([0, 1], [0, 1], linestyle='--')\n",
    "\n",
    "plt.xlim([0.0, 1.0])\n",
    "plt.ylim([0.0, 1.0])\n",
    "\n",
    "plt.xlabel('False Positive Rate')\n",
    "plt.ylabel('True Positive Rate')\n",
    "\n",
    "plt.title('ROC-curve')\n",
    "plt.show()\n",
    "\n",
    "print('The value of the AUC-ROC metric:', roc_auc_score(target_test, probabilities_one_test))"
   ]
  },
  {
   "cell_type": "markdown",
   "metadata": {},
   "source": [
    "As can be seen from the graph of the ROC curve and the value of the AUC_ROC metric ~0.83, the model turned out to be of high quality and very different from random, while the F1 measure shows high density and accuracy of the model."
   ]
  },
  {
   "cell_type": "markdown",
   "metadata": {},
   "source": [
    "During the study, several types of models were trained, these are Random Forest, Decision Tree and Logistic Regression.\n",
    "\n",
    "The indicators of the F1 metric were also studied for various samples, balanced, upsampled and downsampled, as a result of which the most optimal Random Forest model was found with hyperparameters depth=50, n_estimators=50, the F1 metric of which is ~0.6\n",
    "\n",
    "The following steps were taken:\n",
    "- The original dataset has been studied.\n",
    "- Preprocessed signs.\n",
    "- The samples were divided into training, validation and test.\n",
    "- Data encoding was performed using the One Hot Encoding method.\n",
    "- Data scaling was performed on upsampled and downsampled.\n",
    "- Three models have been trained on unbalanced data.\n",
    "- Models are trained on balanced, upsampled, downsampled samples.\n",
    "- Testing the best Random Forest model.\n",
    "- Calculation of the AUC-ROC metric and its comparison with the F1 metric."
   ]
  }
 ],
 "metadata": {
  "ExecuteTimeLog": [
   {
    "duration": 1192,
    "start_time": "2023-01-24T19:01:41.774Z"
   },
   {
    "duration": 3,
    "start_time": "2023-01-24T19:01:59.982Z"
   },
   {
    "duration": 97,
    "start_time": "2023-01-24T19:02:39.421Z"
   },
   {
    "duration": 245,
    "start_time": "2023-01-24T19:04:42.611Z"
   },
   {
    "duration": 54,
    "start_time": "2023-01-24T19:05:17.210Z"
   },
   {
    "duration": 48,
    "start_time": "2023-01-24T19:07:06.063Z"
   },
   {
    "duration": 143,
    "start_time": "2023-01-24T19:07:30.517Z"
   },
   {
    "duration": 53,
    "start_time": "2023-01-24T19:07:33.735Z"
   },
   {
    "duration": 48,
    "start_time": "2023-01-24T19:07:46.364Z"
   },
   {
    "duration": 62,
    "start_time": "2023-01-24T19:08:12.324Z"
   },
   {
    "duration": 41,
    "start_time": "2023-01-24T19:08:28.178Z"
   },
   {
    "duration": 50,
    "start_time": "2023-01-24T19:08:38.557Z"
   },
   {
    "duration": 50,
    "start_time": "2023-01-24T19:10:12.644Z"
   },
   {
    "duration": 14,
    "start_time": "2023-01-24T19:20:36.938Z"
   },
   {
    "duration": 13,
    "start_time": "2023-01-24T19:20:47.160Z"
   },
   {
    "duration": 11,
    "start_time": "2023-01-24T19:20:51.949Z"
   },
   {
    "duration": 25,
    "start_time": "2023-01-24T19:20:53.153Z"
   },
   {
    "duration": 49,
    "start_time": "2023-01-24T19:22:09.597Z"
   },
   {
    "duration": 50,
    "start_time": "2023-01-24T19:25:10.312Z"
   },
   {
    "duration": 1455,
    "start_time": "2023-01-24T19:30:03.088Z"
   },
   {
    "duration": 185,
    "start_time": "2023-01-24T19:30:04.546Z"
   },
   {
    "duration": 0,
    "start_time": "2023-01-24T19:30:04.737Z"
   },
   {
    "duration": 0,
    "start_time": "2023-01-24T19:30:04.739Z"
   },
   {
    "duration": 54,
    "start_time": "2023-01-24T19:30:20.430Z"
   },
   {
    "duration": 71,
    "start_time": "2023-01-24T19:30:30.625Z"
   },
   {
    "duration": 70,
    "start_time": "2023-01-24T19:30:41.383Z"
   },
   {
    "duration": 69,
    "start_time": "2023-01-24T19:30:45.488Z"
   },
   {
    "duration": 70,
    "start_time": "2023-01-24T19:31:08.492Z"
   },
   {
    "duration": 59,
    "start_time": "2023-01-24T19:31:11.518Z"
   },
   {
    "duration": 7,
    "start_time": "2023-01-24T19:31:22.644Z"
   },
   {
    "duration": 24,
    "start_time": "2023-01-24T19:31:23.849Z"
   },
   {
    "duration": 66,
    "start_time": "2023-01-24T19:33:45.070Z"
   },
   {
    "duration": 60,
    "start_time": "2023-01-24T19:33:58.973Z"
   },
   {
    "duration": 47,
    "start_time": "2023-01-24T19:34:08.364Z"
   },
   {
    "duration": 47,
    "start_time": "2023-01-24T19:34:43.969Z"
   },
   {
    "duration": 51,
    "start_time": "2023-01-24T19:34:59.082Z"
   },
   {
    "duration": 52,
    "start_time": "2023-01-24T19:35:06.594Z"
   },
   {
    "duration": 52,
    "start_time": "2023-01-24T19:35:10.712Z"
   },
   {
    "duration": 59,
    "start_time": "2023-01-24T19:35:20.268Z"
   },
   {
    "duration": 49,
    "start_time": "2023-01-24T19:35:26.411Z"
   },
   {
    "duration": 61,
    "start_time": "2023-01-24T19:35:31.096Z"
   },
   {
    "duration": 49,
    "start_time": "2023-01-24T19:35:35.722Z"
   },
   {
    "duration": 50,
    "start_time": "2023-01-24T19:35:44.855Z"
   },
   {
    "duration": 54,
    "start_time": "2023-01-24T19:35:50.249Z"
   },
   {
    "duration": 54,
    "start_time": "2023-01-24T19:36:01.240Z"
   },
   {
    "duration": 52,
    "start_time": "2023-01-24T19:36:12.741Z"
   },
   {
    "duration": 51,
    "start_time": "2023-01-24T19:36:18.031Z"
   },
   {
    "duration": 1170,
    "start_time": "2023-01-24T19:39:30.168Z"
   },
   {
    "duration": 57,
    "start_time": "2023-01-24T19:39:31.340Z"
   },
   {
    "duration": 8,
    "start_time": "2023-01-24T19:39:31.401Z"
   },
   {
    "duration": 119,
    "start_time": "2023-01-24T19:39:31.411Z"
   },
   {
    "duration": 38,
    "start_time": "2023-01-24T19:39:44.286Z"
   },
   {
    "duration": 16,
    "start_time": "2023-01-24T19:40:53.361Z"
   },
   {
    "duration": 16,
    "start_time": "2023-01-24T19:44:41.778Z"
   },
   {
    "duration": 62,
    "start_time": "2023-01-24T19:45:46.978Z"
   },
   {
    "duration": 55,
    "start_time": "2023-01-24T19:49:42.199Z"
   },
   {
    "duration": 7,
    "start_time": "2023-01-24T19:49:45.366Z"
   },
   {
    "duration": 19,
    "start_time": "2023-01-24T19:49:45.998Z"
   },
   {
    "duration": 16,
    "start_time": "2023-01-24T19:50:52.538Z"
   },
   {
    "duration": 15,
    "start_time": "2023-01-24T19:51:01.459Z"
   },
   {
    "duration": 42,
    "start_time": "2023-01-24T19:51:04.147Z"
   },
   {
    "duration": 12,
    "start_time": "2023-01-24T19:56:19.129Z"
   },
   {
    "duration": 38,
    "start_time": "2023-01-24T19:56:58.400Z"
   },
   {
    "duration": 56,
    "start_time": "2023-01-25T11:33:29.467Z"
   },
   {
    "duration": 1164,
    "start_time": "2023-01-25T11:35:29.509Z"
   },
   {
    "duration": 59,
    "start_time": "2023-01-25T11:35:30.675Z"
   },
   {
    "duration": 8,
    "start_time": "2023-01-25T11:35:30.736Z"
   },
   {
    "duration": 18597,
    "start_time": "2023-01-25T11:35:30.746Z"
   },
   {
    "duration": 200828,
    "start_time": "2023-01-25T11:37:03.976Z"
   },
   {
    "duration": 18490,
    "start_time": "2023-01-25T11:45:19.483Z"
   },
   {
    "duration": 21093,
    "start_time": "2023-01-25T11:45:50.998Z"
   },
   {
    "duration": 18231,
    "start_time": "2023-01-25T11:46:28.007Z"
   },
   {
    "duration": 197039,
    "start_time": "2023-01-25T11:47:13.273Z"
   },
   {
    "duration": 1528,
    "start_time": "2023-01-25T11:53:59.058Z"
   },
   {
    "duration": 106,
    "start_time": "2023-01-25T11:58:02.490Z"
   },
   {
    "duration": 10,
    "start_time": "2023-01-25T11:58:18.861Z"
   },
   {
    "duration": 49,
    "start_time": "2023-01-25T11:58:36.754Z"
   },
   {
    "duration": 241,
    "start_time": "2023-01-25T11:58:53.472Z"
   },
   {
    "duration": 31,
    "start_time": "2023-01-25T11:58:59.823Z"
   },
   {
    "duration": 449,
    "start_time": "2023-01-25T11:59:11.454Z"
   },
   {
    "duration": 589,
    "start_time": "2023-01-25T12:02:22.416Z"
   },
   {
    "duration": 4,
    "start_time": "2023-01-25T12:32:25.625Z"
   },
   {
    "duration": 21,
    "start_time": "2023-01-25T12:40:31.310Z"
   },
   {
    "duration": 3,
    "start_time": "2023-01-25T12:40:41.793Z"
   },
   {
    "duration": 22,
    "start_time": "2023-01-25T12:40:42.654Z"
   },
   {
    "duration": 3,
    "start_time": "2023-01-25T12:42:10.785Z"
   },
   {
    "duration": 19,
    "start_time": "2023-01-25T12:42:14.372Z"
   },
   {
    "duration": 302,
    "start_time": "2023-01-25T12:45:10.708Z"
   },
   {
    "duration": 22,
    "start_time": "2023-01-25T12:46:01.052Z"
   },
   {
    "duration": 26,
    "start_time": "2023-01-25T12:46:23.807Z"
   },
   {
    "duration": 20,
    "start_time": "2023-01-25T12:46:32.169Z"
   },
   {
    "duration": 15,
    "start_time": "2023-01-25T12:46:36.066Z"
   },
   {
    "duration": 22,
    "start_time": "2023-01-25T12:46:39.527Z"
   },
   {
    "duration": 18,
    "start_time": "2023-01-25T12:46:55.955Z"
   },
   {
    "duration": 462,
    "start_time": "2023-01-25T12:46:58.412Z"
   },
   {
    "duration": 14,
    "start_time": "2023-01-25T12:47:12.711Z"
   },
   {
    "duration": 340,
    "start_time": "2023-01-25T12:47:24.127Z"
   },
   {
    "duration": 22,
    "start_time": "2023-01-25T12:47:50.612Z"
   },
   {
    "duration": 462,
    "start_time": "2023-01-25T12:47:53.569Z"
   },
   {
    "duration": 14,
    "start_time": "2023-01-25T12:47:57.103Z"
   },
   {
    "duration": 305,
    "start_time": "2023-01-25T12:47:59.569Z"
   },
   {
    "duration": 12,
    "start_time": "2023-01-25T12:48:03.519Z"
   },
   {
    "duration": 287,
    "start_time": "2023-01-25T12:48:05.105Z"
   },
   {
    "duration": 15,
    "start_time": "2023-01-25T12:48:08.119Z"
   },
   {
    "duration": 312,
    "start_time": "2023-01-25T12:48:09.364Z"
   },
   {
    "duration": 253938,
    "start_time": "2023-01-25T12:48:45.282Z"
   },
   {
    "duration": 381525,
    "start_time": "2023-01-25T12:53:07.752Z"
   },
   {
    "duration": 1226,
    "start_time": "2023-01-25T13:00:38.294Z"
   },
   {
    "duration": 61,
    "start_time": "2023-01-25T13:00:39.522Z"
   },
   {
    "duration": 8,
    "start_time": "2023-01-25T13:00:39.585Z"
   },
   {
    "duration": 200134,
    "start_time": "2023-01-25T13:00:39.596Z"
   },
   {
    "duration": 1607,
    "start_time": "2023-01-25T13:03:59.732Z"
   },
   {
    "duration": 570,
    "start_time": "2023-01-25T13:04:01.341Z"
   },
   {
    "duration": 91,
    "start_time": "2023-01-25T13:04:01.913Z"
   },
   {
    "duration": 29,
    "start_time": "2023-01-25T13:04:02.006Z"
   },
   {
    "duration": 433,
    "start_time": "2023-01-25T13:04:02.037Z"
   },
   {
    "duration": 385224,
    "start_time": "2023-01-25T13:04:02.472Z"
   },
   {
    "duration": 119,
    "start_time": "2023-01-25T13:19:58.948Z"
   },
   {
    "duration": 71,
    "start_time": "2023-01-25T13:20:05.903Z"
   },
   {
    "duration": 9,
    "start_time": "2023-01-25T13:20:25.410Z"
   },
   {
    "duration": 62,
    "start_time": "2023-01-25T13:20:29.525Z"
   },
   {
    "duration": 382127,
    "start_time": "2023-01-25T13:22:21.293Z"
   },
   {
    "duration": 22,
    "start_time": "2023-01-25T13:28:43.422Z"
   },
   {
    "duration": 317,
    "start_time": "2023-01-25T13:36:03.695Z"
   },
   {
    "duration": 465,
    "start_time": "2023-01-25T13:36:30.583Z"
   },
   {
    "duration": 377631,
    "start_time": "2023-01-25T13:37:32.675Z"
   },
   {
    "duration": 38,
    "start_time": "2023-01-25T14:03:36.274Z"
   },
   {
    "duration": 4,
    "start_time": "2023-01-25T14:03:44.519Z"
   },
   {
    "duration": 38,
    "start_time": "2023-01-25T14:03:48.017Z"
   },
   {
    "duration": 382,
    "start_time": "2023-01-25T14:04:03.076Z"
   },
   {
    "duration": 4,
    "start_time": "2023-01-25T14:52:37.873Z"
   },
   {
    "duration": 50,
    "start_time": "2023-01-25T14:52:45.100Z"
   },
   {
    "duration": 4,
    "start_time": "2023-01-25T14:53:13.996Z"
   },
   {
    "duration": 181,
    "start_time": "2023-01-25T14:53:14.002Z"
   },
   {
    "duration": 269,
    "start_time": "2023-01-25T14:53:46.016Z"
   },
   {
    "duration": 75,
    "start_time": "2023-01-25T15:00:37.708Z"
   },
   {
    "duration": 149,
    "start_time": "2023-01-25T15:00:42.695Z"
   },
   {
    "duration": 61,
    "start_time": "2023-01-25T15:01:44.417Z"
   },
   {
    "duration": 139,
    "start_time": "2023-01-25T15:43:42.868Z"
   },
   {
    "duration": 336,
    "start_time": "2023-01-25T15:43:48.171Z"
   },
   {
    "duration": 139,
    "start_time": "2023-01-25T15:43:55.265Z"
   },
   {
    "duration": 1361,
    "start_time": "2023-01-25T16:12:49.617Z"
   },
   {
    "duration": 60,
    "start_time": "2023-01-25T16:12:50.981Z"
   },
   {
    "duration": 10,
    "start_time": "2023-01-25T16:12:51.043Z"
   },
   {
    "duration": 161392,
    "start_time": "2023-01-25T16:12:51.055Z"
   },
   {
    "duration": 1214,
    "start_time": "2023-01-25T16:15:32.449Z"
   },
   {
    "duration": 655,
    "start_time": "2023-01-25T16:15:33.666Z"
   },
   {
    "duration": 81,
    "start_time": "2023-01-25T16:15:34.323Z"
   },
   {
    "duration": 29,
    "start_time": "2023-01-25T16:15:34.405Z"
   },
   {
    "duration": 75916,
    "start_time": "2023-01-25T16:15:34.436Z"
   },
   {
    "duration": 0,
    "start_time": "2023-01-25T16:16:50.354Z"
   },
   {
    "duration": 0,
    "start_time": "2023-01-25T16:16:50.355Z"
   },
   {
    "duration": 53,
    "start_time": "2023-01-25T16:16:54.756Z"
   },
   {
    "duration": 1188,
    "start_time": "2023-01-25T16:17:02.017Z"
   },
   {
    "duration": 147,
    "start_time": "2023-01-25T16:17:14.657Z"
   },
   {
    "duration": 1422,
    "start_time": "2023-01-25T16:17:27.089Z"
   },
   {
    "duration": 56,
    "start_time": "2023-01-25T16:17:28.513Z"
   },
   {
    "duration": 11,
    "start_time": "2023-01-25T16:17:28.571Z"
   },
   {
    "duration": 108,
    "start_time": "2023-01-25T16:17:28.583Z"
   },
   {
    "duration": 0,
    "start_time": "2023-01-25T16:17:28.692Z"
   },
   {
    "duration": 0,
    "start_time": "2023-01-25T16:17:28.693Z"
   },
   {
    "duration": 0,
    "start_time": "2023-01-25T16:17:28.694Z"
   },
   {
    "duration": 0,
    "start_time": "2023-01-25T16:17:28.703Z"
   },
   {
    "duration": 0,
    "start_time": "2023-01-25T16:17:28.704Z"
   },
   {
    "duration": 0,
    "start_time": "2023-01-25T16:17:28.705Z"
   },
   {
    "duration": 1314,
    "start_time": "2023-01-25T16:17:44.499Z"
   },
   {
    "duration": 59,
    "start_time": "2023-01-25T16:17:45.815Z"
   },
   {
    "duration": 11,
    "start_time": "2023-01-25T16:17:45.876Z"
   },
   {
    "duration": 164668,
    "start_time": "2023-01-25T16:17:45.889Z"
   },
   {
    "duration": 1215,
    "start_time": "2023-01-25T16:20:30.559Z"
   },
   {
    "duration": 228,
    "start_time": "2023-01-25T16:20:31.776Z"
   },
   {
    "duration": 99,
    "start_time": "2023-01-25T16:20:32.006Z"
   },
   {
    "duration": 23,
    "start_time": "2023-01-25T16:20:32.106Z"
   },
   {
    "duration": 295285,
    "start_time": "2023-01-25T16:20:32.131Z"
   },
   {
    "duration": 185,
    "start_time": "2023-01-25T16:25:27.418Z"
   },
   {
    "duration": 64,
    "start_time": "2023-01-27T13:01:07.674Z"
   },
   {
    "duration": 1652,
    "start_time": "2023-01-27T13:01:12.641Z"
   },
   {
    "duration": 223,
    "start_time": "2023-01-27T13:01:20.350Z"
   },
   {
    "duration": 89,
    "start_time": "2023-01-27T13:04:40.326Z"
   },
   {
    "duration": 1056,
    "start_time": "2023-01-27T13:05:46.847Z"
   },
   {
    "duration": 1146,
    "start_time": "2023-01-27T13:06:08.265Z"
   },
   {
    "duration": 100,
    "start_time": "2023-01-27T13:06:25.714Z"
   },
   {
    "duration": 981,
    "start_time": "2023-01-27T13:06:27.936Z"
   },
   {
    "duration": 78,
    "start_time": "2023-01-27T13:06:36.543Z"
   },
   {
    "duration": 78,
    "start_time": "2023-01-27T13:06:39.735Z"
   },
   {
    "duration": 1114,
    "start_time": "2023-01-27T13:34:17.438Z"
   },
   {
    "duration": 1019,
    "start_time": "2023-01-27T13:34:23.374Z"
   },
   {
    "duration": 119,
    "start_time": "2023-01-27T13:34:38.438Z"
   },
   {
    "duration": 28,
    "start_time": "2023-01-27T13:34:49.218Z"
   },
   {
    "duration": 12,
    "start_time": "2023-01-27T13:34:55.252Z"
   },
   {
    "duration": 12,
    "start_time": "2023-01-27T13:37:09.497Z"
   },
   {
    "duration": 6,
    "start_time": "2023-01-27T13:37:21.757Z"
   },
   {
    "duration": 33,
    "start_time": "2023-01-27T13:37:26.609Z"
   },
   {
    "duration": 11,
    "start_time": "2023-01-27T13:48:28.696Z"
   },
   {
    "duration": 16,
    "start_time": "2023-01-27T13:49:34.299Z"
   },
   {
    "duration": 10,
    "start_time": "2023-01-27T13:50:37.564Z"
   },
   {
    "duration": 4,
    "start_time": "2023-01-27T13:50:41.092Z"
   },
   {
    "duration": 93,
    "start_time": "2023-01-27T13:56:52.292Z"
   },
   {
    "duration": 12,
    "start_time": "2023-01-27T13:58:16.955Z"
   },
   {
    "duration": 23,
    "start_time": "2023-01-27T13:58:25.940Z"
   },
   {
    "duration": 22,
    "start_time": "2023-01-27T13:58:31.358Z"
   },
   {
    "duration": 27,
    "start_time": "2023-01-27T13:58:34.845Z"
   },
   {
    "duration": 22,
    "start_time": "2023-01-27T13:59:30.607Z"
   },
   {
    "duration": 22,
    "start_time": "2023-01-27T13:59:34.853Z"
   },
   {
    "duration": 20,
    "start_time": "2023-01-27T13:59:38.684Z"
   },
   {
    "duration": 1463,
    "start_time": "2023-01-27T14:01:59.372Z"
   },
   {
    "duration": 89,
    "start_time": "2023-01-27T14:02:00.837Z"
   },
   {
    "duration": 12,
    "start_time": "2023-01-27T14:02:00.928Z"
   },
   {
    "duration": 29,
    "start_time": "2023-01-27T14:02:00.942Z"
   },
   {
    "duration": 130,
    "start_time": "2023-01-27T14:02:00.973Z"
   },
   {
    "duration": 0,
    "start_time": "2023-01-27T14:02:01.105Z"
   },
   {
    "duration": 0,
    "start_time": "2023-01-27T14:02:01.106Z"
   },
   {
    "duration": 0,
    "start_time": "2023-01-27T14:02:01.108Z"
   },
   {
    "duration": 0,
    "start_time": "2023-01-27T14:02:01.109Z"
   },
   {
    "duration": 0,
    "start_time": "2023-01-27T14:02:01.110Z"
   },
   {
    "duration": 0,
    "start_time": "2023-01-27T14:02:01.121Z"
   },
   {
    "duration": 0,
    "start_time": "2023-01-27T14:02:01.122Z"
   },
   {
    "duration": 10,
    "start_time": "2023-01-27T14:06:11.518Z"
   },
   {
    "duration": 4,
    "start_time": "2023-01-27T14:11:47.192Z"
   },
   {
    "duration": 26,
    "start_time": "2023-01-27T14:15:51.198Z"
   },
   {
    "duration": 20,
    "start_time": "2023-01-27T14:16:32.881Z"
   },
   {
    "duration": 17,
    "start_time": "2023-01-27T14:17:52.894Z"
   },
   {
    "duration": 17,
    "start_time": "2023-01-27T14:18:47.098Z"
   },
   {
    "duration": 18,
    "start_time": "2023-01-27T14:19:59.562Z"
   },
   {
    "duration": 258,
    "start_time": "2023-01-27T14:20:08.763Z"
   },
   {
    "duration": 20,
    "start_time": "2023-01-27T14:20:42.197Z"
   },
   {
    "duration": 33,
    "start_time": "2023-01-27T14:20:55.561Z"
   },
   {
    "duration": 17,
    "start_time": "2023-01-27T14:21:05.396Z"
   },
   {
    "duration": 261,
    "start_time": "2023-01-27T14:21:23.053Z"
   },
   {
    "duration": 347,
    "start_time": "2023-01-27T14:21:37.822Z"
   },
   {
    "duration": 11,
    "start_time": "2023-01-27T14:22:42.641Z"
   },
   {
    "duration": 4,
    "start_time": "2023-01-27T14:22:46.666Z"
   },
   {
    "duration": 28,
    "start_time": "2023-01-27T14:25:09.769Z"
   },
   {
    "duration": 38,
    "start_time": "2023-01-27T14:25:55.032Z"
   },
   {
    "duration": 29,
    "start_time": "2023-01-27T14:26:04.908Z"
   },
   {
    "duration": 30,
    "start_time": "2023-01-27T14:26:11.715Z"
   },
   {
    "duration": 39,
    "start_time": "2023-01-27T14:26:25.053Z"
   },
   {
    "duration": 64,
    "start_time": "2023-01-27T14:26:27.622Z"
   },
   {
    "duration": 22,
    "start_time": "2023-01-27T14:26:29.555Z"
   },
   {
    "duration": 28,
    "start_time": "2023-01-27T14:27:00.761Z"
   },
   {
    "duration": 12,
    "start_time": "2023-01-27T14:27:48.498Z"
   },
   {
    "duration": 12,
    "start_time": "2023-01-27T14:27:53.851Z"
   },
   {
    "duration": 21,
    "start_time": "2023-01-27T14:28:39.359Z"
   },
   {
    "duration": 11,
    "start_time": "2023-01-27T14:28:58.693Z"
   },
   {
    "duration": 7,
    "start_time": "2023-01-27T14:35:02.862Z"
   },
   {
    "duration": 6,
    "start_time": "2023-01-27T14:35:07.102Z"
   },
   {
    "duration": 19,
    "start_time": "2023-01-27T14:38:39.653Z"
   },
   {
    "duration": 16,
    "start_time": "2023-01-27T14:38:43.665Z"
   },
   {
    "duration": 13,
    "start_time": "2023-01-27T14:38:45.516Z"
   },
   {
    "duration": 12,
    "start_time": "2023-01-27T14:38:48.048Z"
   },
   {
    "duration": 10,
    "start_time": "2023-01-27T14:40:26.159Z"
   },
   {
    "duration": 6,
    "start_time": "2023-01-27T14:40:30.194Z"
   },
   {
    "duration": 6,
    "start_time": "2023-01-27T14:40:36.585Z"
   },
   {
    "duration": 9,
    "start_time": "2023-01-27T14:40:39.335Z"
   },
   {
    "duration": 7,
    "start_time": "2023-01-27T14:40:44.346Z"
   },
   {
    "duration": 11,
    "start_time": "2023-01-27T14:41:12.004Z"
   },
   {
    "duration": 21,
    "start_time": "2023-01-27T14:42:26.124Z"
   },
   {
    "duration": 174,
    "start_time": "2023-01-27T14:42:54.511Z"
   },
   {
    "duration": 12,
    "start_time": "2023-01-27T14:43:04.395Z"
   },
   {
    "duration": 348,
    "start_time": "2023-01-27T14:43:44.800Z"
   },
   {
    "duration": 17,
    "start_time": "2023-01-27T14:49:23.926Z"
   },
   {
    "duration": 17,
    "start_time": "2023-01-27T14:59:49.360Z"
   },
   {
    "duration": 18,
    "start_time": "2023-01-27T14:59:57.881Z"
   },
   {
    "duration": 11,
    "start_time": "2023-01-27T15:02:57.583Z"
   },
   {
    "duration": 18,
    "start_time": "2023-01-27T15:03:10.063Z"
   },
   {
    "duration": 12,
    "start_time": "2023-01-27T15:03:11.544Z"
   },
   {
    "duration": 39,
    "start_time": "2023-01-27T15:03:21.279Z"
   },
   {
    "duration": 67,
    "start_time": "2023-01-27T15:07:46.695Z"
   },
   {
    "duration": 20,
    "start_time": "2023-01-27T15:08:23.260Z"
   },
   {
    "duration": 46,
    "start_time": "2023-01-27T15:17:02.442Z"
   },
   {
    "duration": 39,
    "start_time": "2023-01-27T15:18:21.277Z"
   },
   {
    "duration": 49,
    "start_time": "2023-01-27T15:18:25.917Z"
   },
   {
    "duration": 41,
    "start_time": "2023-01-27T15:18:38.747Z"
   },
   {
    "duration": 45,
    "start_time": "2023-01-27T15:18:53.042Z"
   },
   {
    "duration": 51,
    "start_time": "2023-01-27T15:19:06.663Z"
   },
   {
    "duration": 41,
    "start_time": "2023-01-27T15:23:04.378Z"
   },
   {
    "duration": 1497,
    "start_time": "2023-01-27T15:23:51.845Z"
   },
   {
    "duration": 97,
    "start_time": "2023-01-27T15:23:53.346Z"
   },
   {
    "duration": 13,
    "start_time": "2023-01-27T15:23:53.446Z"
   },
   {
    "duration": 19,
    "start_time": "2023-01-27T15:23:53.461Z"
   },
   {
    "duration": 82,
    "start_time": "2023-01-27T15:23:53.482Z"
   },
   {
    "duration": 171,
    "start_time": "2023-01-27T15:23:53.566Z"
   },
   {
    "duration": 0,
    "start_time": "2023-01-27T15:23:53.740Z"
   },
   {
    "duration": 0,
    "start_time": "2023-01-27T15:23:53.741Z"
   },
   {
    "duration": 0,
    "start_time": "2023-01-27T15:23:53.743Z"
   },
   {
    "duration": 0,
    "start_time": "2023-01-27T15:23:53.745Z"
   },
   {
    "duration": 0,
    "start_time": "2023-01-27T15:23:53.746Z"
   },
   {
    "duration": 0,
    "start_time": "2023-01-27T15:23:53.747Z"
   },
   {
    "duration": 23,
    "start_time": "2023-01-27T15:24:40.457Z"
   },
   {
    "duration": 17,
    "start_time": "2023-01-27T15:26:55.490Z"
   },
   {
    "duration": 22,
    "start_time": "2023-01-27T15:27:23.746Z"
   },
   {
    "duration": 17,
    "start_time": "2023-01-27T15:27:56.157Z"
   },
   {
    "duration": 50,
    "start_time": "2023-01-27T15:40:01.060Z"
   },
   {
    "duration": 20,
    "start_time": "2023-01-27T15:40:10.753Z"
   },
   {
    "duration": 221085,
    "start_time": "2023-01-27T15:41:08.096Z"
   },
   {
    "duration": 10231,
    "start_time": "2023-01-27T15:49:14.467Z"
   },
   {
    "duration": 9735,
    "start_time": "2023-01-27T15:49:58.393Z"
   },
   {
    "duration": 802,
    "start_time": "2023-01-27T15:50:35.820Z"
   },
   {
    "duration": 17,
    "start_time": "2023-01-27T15:50:52.116Z"
   },
   {
    "duration": 12,
    "start_time": "2023-01-27T15:51:45.999Z"
   },
   {
    "duration": 54,
    "start_time": "2023-01-27T15:53:19.586Z"
   },
   {
    "duration": 59,
    "start_time": "2023-01-27T15:54:02.770Z"
   },
   {
    "duration": 157706,
    "start_time": "2023-01-27T15:54:34.100Z"
   },
   {
    "duration": 8038,
    "start_time": "2023-01-27T15:57:11.808Z"
   },
   {
    "duration": 385,
    "start_time": "2023-01-27T15:57:19.848Z"
   },
   {
    "duration": 202672,
    "start_time": "2023-01-27T15:59:08.454Z"
   },
   {
    "duration": 9682,
    "start_time": "2023-01-27T16:02:31.128Z"
   },
   {
    "duration": 1718,
    "start_time": "2023-01-27T16:02:40.812Z"
   },
   {
    "duration": 445068,
    "start_time": "2023-01-27T16:08:26.554Z"
   },
   {
    "duration": 0,
    "start_time": "2023-01-27T16:15:51.624Z"
   },
   {
    "duration": 0,
    "start_time": "2023-01-27T16:15:51.626Z"
   },
   {
    "duration": 0,
    "start_time": "2023-01-27T16:15:51.627Z"
   },
   {
    "duration": 0,
    "start_time": "2023-01-27T16:15:51.628Z"
   },
   {
    "duration": 6,
    "start_time": "2023-01-27T16:16:02.873Z"
   },
   {
    "duration": 24,
    "start_time": "2023-01-27T16:16:03.253Z"
   },
   {
    "duration": 28,
    "start_time": "2023-01-27T16:16:21.543Z"
   },
   {
    "duration": 1388,
    "start_time": "2023-01-27T16:18:27.125Z"
   },
   {
    "duration": 83,
    "start_time": "2023-01-27T16:18:28.516Z"
   },
   {
    "duration": 10,
    "start_time": "2023-01-27T16:18:28.601Z"
   },
   {
    "duration": 8,
    "start_time": "2023-01-27T16:18:28.613Z"
   },
   {
    "duration": 28,
    "start_time": "2023-01-27T16:18:28.622Z"
   },
   {
    "duration": 58,
    "start_time": "2023-01-27T16:18:28.651Z"
   },
   {
    "duration": 161190,
    "start_time": "2023-01-27T16:18:28.711Z"
   },
   {
    "duration": 8023,
    "start_time": "2023-01-27T16:21:09.903Z"
   },
   {
    "duration": 506,
    "start_time": "2023-01-27T16:21:17.929Z"
   },
   {
    "duration": 187021,
    "start_time": "2023-01-27T16:21:18.440Z"
   },
   {
    "duration": 8380,
    "start_time": "2023-01-27T16:24:25.463Z"
   },
   {
    "duration": 285,
    "start_time": "2023-01-27T16:24:33.845Z"
   },
   {
    "duration": 639840,
    "start_time": "2023-01-27T16:24:34.222Z"
   },
   {
    "duration": 12510,
    "start_time": "2023-01-27T16:35:14.064Z"
   },
   {
    "duration": 1348,
    "start_time": "2023-01-27T16:35:26.576Z"
   },
   {
    "duration": 215,
    "start_time": "2023-01-27T16:35:27.926Z"
   },
   {
    "duration": 0,
    "start_time": "2023-01-27T16:35:28.142Z"
   },
   {
    "duration": 0,
    "start_time": "2023-01-27T16:35:28.144Z"
   },
   {
    "duration": 0,
    "start_time": "2023-01-27T16:35:28.145Z"
   },
   {
    "duration": 0,
    "start_time": "2023-01-27T16:35:28.146Z"
   },
   {
    "duration": 20,
    "start_time": "2023-01-27T16:37:16.982Z"
   },
   {
    "duration": 21,
    "start_time": "2023-01-27T16:37:28.457Z"
   },
   {
    "duration": 16,
    "start_time": "2023-01-27T16:38:39.495Z"
   },
   {
    "duration": 17,
    "start_time": "2023-01-27T16:39:14.886Z"
   },
   {
    "duration": 17,
    "start_time": "2023-01-27T16:39:39.214Z"
   },
   {
    "duration": 22,
    "start_time": "2023-01-27T16:40:13.503Z"
   },
   {
    "duration": 25,
    "start_time": "2023-01-27T16:40:20.037Z"
   },
   {
    "duration": 5,
    "start_time": "2023-01-27T16:40:22.122Z"
   },
   {
    "duration": 26,
    "start_time": "2023-01-27T16:40:22.505Z"
   },
   {
    "duration": 60,
    "start_time": "2023-01-27T16:40:24.469Z"
   },
   {
    "duration": 16,
    "start_time": "2023-01-27T16:40:49.729Z"
   },
   {
    "duration": 6,
    "start_time": "2023-01-27T16:40:57.979Z"
   },
   {
    "duration": 27,
    "start_time": "2023-01-27T16:40:58.336Z"
   },
   {
    "duration": 72,
    "start_time": "2023-01-27T16:40:59.096Z"
   },
   {
    "duration": 18,
    "start_time": "2023-01-27T16:41:11.471Z"
   },
   {
    "duration": 9,
    "start_time": "2023-01-27T16:41:13.323Z"
   },
   {
    "duration": 33,
    "start_time": "2023-01-27T16:41:13.501Z"
   },
   {
    "duration": 78,
    "start_time": "2023-01-27T16:41:14.038Z"
   },
   {
    "duration": 37,
    "start_time": "2023-01-27T16:41:36.081Z"
   },
   {
    "duration": 18,
    "start_time": "2023-01-27T16:42:27.109Z"
   },
   {
    "duration": 6,
    "start_time": "2023-01-27T16:42:29.008Z"
   },
   {
    "duration": 24,
    "start_time": "2023-01-27T16:42:29.388Z"
   },
   {
    "duration": 109,
    "start_time": "2023-01-27T16:42:30.438Z"
   },
   {
    "duration": 6,
    "start_time": "2023-01-27T16:43:04.965Z"
   },
   {
    "duration": 25,
    "start_time": "2023-01-27T16:43:05.149Z"
   },
   {
    "duration": 102,
    "start_time": "2023-01-27T16:43:07.296Z"
   },
   {
    "duration": 23,
    "start_time": "2023-01-27T16:43:21.085Z"
   },
   {
    "duration": 8,
    "start_time": "2023-01-27T16:43:23.355Z"
   },
   {
    "duration": 31,
    "start_time": "2023-01-27T16:43:23.527Z"
   },
   {
    "duration": 108,
    "start_time": "2023-01-27T16:43:24.118Z"
   },
   {
    "duration": 31,
    "start_time": "2023-01-27T16:43:35.808Z"
   },
   {
    "duration": 4171,
    "start_time": "2023-01-27T16:43:47.799Z"
   },
   {
    "duration": 137493,
    "start_time": "2023-01-27T16:44:07.705Z"
   },
   {
    "duration": 12,
    "start_time": "2023-01-27T16:47:22.392Z"
   },
   {
    "duration": 43,
    "start_time": "2023-01-27T16:47:55.997Z"
   },
   {
    "duration": 245056,
    "start_time": "2023-01-27T16:48:10.382Z"
   },
   {
    "duration": 18,
    "start_time": "2023-01-27T16:57:19.015Z"
   },
   {
    "duration": 187,
    "start_time": "2023-01-27T16:57:40.143Z"
   },
   {
    "duration": 6,
    "start_time": "2023-01-27T16:58:57.194Z"
   },
   {
    "duration": 34,
    "start_time": "2023-01-27T16:58:58.308Z"
   },
   {
    "duration": 120,
    "start_time": "2023-01-27T16:59:01.123Z"
   },
   {
    "duration": 298911,
    "start_time": "2023-01-27T16:59:10.489Z"
   },
   {
    "duration": 5,
    "start_time": "2023-01-27T17:04:31.480Z"
   },
   {
    "duration": 22,
    "start_time": "2023-01-27T17:04:31.837Z"
   },
   {
    "duration": 106,
    "start_time": "2023-01-27T17:04:35.628Z"
   },
   {
    "duration": 148,
    "start_time": "2023-01-27T17:04:41.443Z"
   },
   {
    "duration": 231427,
    "start_time": "2023-01-27T17:04:46.211Z"
   },
   {
    "duration": 154,
    "start_time": "2023-01-27T17:08:44.856Z"
   },
   {
    "duration": 6,
    "start_time": "2023-01-27T17:08:58.248Z"
   },
   {
    "duration": 22,
    "start_time": "2023-01-27T17:08:58.581Z"
   },
   {
    "duration": 103,
    "start_time": "2023-01-27T17:09:00.114Z"
   },
   {
    "duration": 214995,
    "start_time": "2023-01-27T17:09:06.401Z"
   },
   {
    "duration": 135,
    "start_time": "2023-01-27T17:14:42.851Z"
   },
   {
    "duration": 6,
    "start_time": "2023-01-27T17:15:04.316Z"
   },
   {
    "duration": 24,
    "start_time": "2023-01-27T17:15:04.560Z"
   },
   {
    "duration": 100,
    "start_time": "2023-01-27T17:15:05.444Z"
   },
   {
    "duration": 239907,
    "start_time": "2023-01-27T17:15:10.456Z"
   },
   {
    "duration": 622490,
    "start_time": "2023-01-27T17:20:05.673Z"
   },
   {
    "duration": 6,
    "start_time": "2023-01-27T17:30:41.619Z"
   },
   {
    "duration": 23,
    "start_time": "2023-01-27T17:30:41.911Z"
   },
   {
    "duration": 99,
    "start_time": "2023-01-27T17:30:43.499Z"
   },
   {
    "duration": 139,
    "start_time": "2023-01-27T17:30:51.840Z"
   },
   {
    "duration": 136,
    "start_time": "2023-01-27T17:30:55.262Z"
   },
   {
    "duration": 701819,
    "start_time": "2023-01-27T17:30:59.080Z"
   },
   {
    "duration": 231123,
    "start_time": "2023-01-27T17:44:14.754Z"
   },
   {
    "duration": 697367,
    "start_time": "2023-01-27T17:48:49.067Z"
   },
   {
    "duration": 1283,
    "start_time": "2023-01-27T18:41:12.341Z"
   },
   {
    "duration": 85,
    "start_time": "2023-01-27T18:41:13.626Z"
   },
   {
    "duration": 13,
    "start_time": "2023-01-27T18:41:13.715Z"
   },
   {
    "duration": 16,
    "start_time": "2023-01-27T18:41:13.730Z"
   },
   {
    "duration": 37,
    "start_time": "2023-01-27T18:41:13.747Z"
   },
   {
    "duration": 97,
    "start_time": "2023-01-27T18:41:13.786Z"
   },
   {
    "duration": 143589,
    "start_time": "2023-01-27T18:41:13.886Z"
   },
   {
    "duration": 7214,
    "start_time": "2023-01-27T18:43:37.477Z"
   },
   {
    "duration": 630,
    "start_time": "2023-01-27T18:43:44.692Z"
   },
   {
    "duration": 176923,
    "start_time": "2023-01-27T18:43:45.325Z"
   },
   {
    "duration": 7884,
    "start_time": "2023-01-27T18:46:42.250Z"
   },
   {
    "duration": 494,
    "start_time": "2023-01-27T18:46:50.136Z"
   },
   {
    "duration": 561269,
    "start_time": "2023-01-27T18:46:50.724Z"
   },
   {
    "duration": 0,
    "start_time": "2023-01-27T18:56:11.995Z"
   },
   {
    "duration": 0,
    "start_time": "2023-01-27T18:56:11.997Z"
   },
   {
    "duration": 0,
    "start_time": "2023-01-27T18:56:11.998Z"
   },
   {
    "duration": 0,
    "start_time": "2023-01-27T18:56:11.999Z"
   },
   {
    "duration": 0,
    "start_time": "2023-01-27T18:56:12.000Z"
   },
   {
    "duration": 0,
    "start_time": "2023-01-27T18:56:12.000Z"
   },
   {
    "duration": 0,
    "start_time": "2023-01-27T18:56:12.001Z"
   },
   {
    "duration": 1330,
    "start_time": "2023-01-27T18:56:15.513Z"
   },
   {
    "duration": 86,
    "start_time": "2023-01-27T18:56:16.844Z"
   },
   {
    "duration": 11,
    "start_time": "2023-01-27T18:56:16.932Z"
   },
   {
    "duration": 6,
    "start_time": "2023-01-27T18:56:16.945Z"
   },
   {
    "duration": 28,
    "start_time": "2023-01-27T18:56:16.952Z"
   },
   {
    "duration": 127,
    "start_time": "2023-01-27T18:56:16.982Z"
   },
   {
    "duration": 0,
    "start_time": "2023-01-27T18:56:17.111Z"
   },
   {
    "duration": 0,
    "start_time": "2023-01-27T18:56:17.112Z"
   },
   {
    "duration": 0,
    "start_time": "2023-01-27T18:56:17.120Z"
   },
   {
    "duration": 0,
    "start_time": "2023-01-27T18:56:17.123Z"
   },
   {
    "duration": 0,
    "start_time": "2023-01-27T18:56:17.124Z"
   },
   {
    "duration": 0,
    "start_time": "2023-01-27T18:56:17.125Z"
   },
   {
    "duration": 0,
    "start_time": "2023-01-27T18:56:17.126Z"
   },
   {
    "duration": 0,
    "start_time": "2023-01-27T18:56:17.127Z"
   },
   {
    "duration": 0,
    "start_time": "2023-01-27T18:56:17.128Z"
   },
   {
    "duration": 0,
    "start_time": "2023-01-27T18:56:17.129Z"
   },
   {
    "duration": 0,
    "start_time": "2023-01-27T18:56:17.130Z"
   },
   {
    "duration": 0,
    "start_time": "2023-01-27T18:56:17.130Z"
   },
   {
    "duration": 0,
    "start_time": "2023-01-27T18:56:17.131Z"
   },
   {
    "duration": 0,
    "start_time": "2023-01-27T18:56:17.132Z"
   },
   {
    "duration": 100,
    "start_time": "2023-01-27T18:56:50.757Z"
   },
   {
    "duration": 1333,
    "start_time": "2023-01-27T18:57:37.321Z"
   },
   {
    "duration": 84,
    "start_time": "2023-01-27T18:57:38.656Z"
   },
   {
    "duration": 11,
    "start_time": "2023-01-27T18:57:38.741Z"
   },
   {
    "duration": 10,
    "start_time": "2023-01-27T18:57:38.754Z"
   },
   {
    "duration": 27,
    "start_time": "2023-01-27T18:57:38.766Z"
   },
   {
    "duration": 110,
    "start_time": "2023-01-27T18:57:38.795Z"
   },
   {
    "duration": 146567,
    "start_time": "2023-01-27T18:57:38.907Z"
   },
   {
    "duration": 7251,
    "start_time": "2023-01-27T19:00:05.476Z"
   },
   {
    "duration": 594,
    "start_time": "2023-01-27T19:00:12.728Z"
   },
   {
    "duration": 175443,
    "start_time": "2023-01-27T19:00:13.326Z"
   },
   {
    "duration": 8251,
    "start_time": "2023-01-27T19:03:08.770Z"
   },
   {
    "duration": 502,
    "start_time": "2023-01-27T19:03:17.022Z"
   },
   {
    "duration": 693131,
    "start_time": "2023-01-27T19:03:17.527Z"
   },
   {
    "duration": 10757,
    "start_time": "2023-01-27T19:14:50.660Z"
   },
   {
    "duration": 502,
    "start_time": "2023-01-27T19:15:01.420Z"
   },
   {
    "duration": 133649,
    "start_time": "2023-01-27T19:15:01.925Z"
   },
   {
    "duration": 4058,
    "start_time": "2023-01-27T19:17:15.576Z"
   },
   {
    "duration": 31,
    "start_time": "2023-01-27T19:17:19.635Z"
   },
   {
    "duration": 684194,
    "start_time": "2023-01-27T19:17:19.668Z"
   },
   {
    "duration": 152,
    "start_time": "2023-01-27T19:28:43.864Z"
   },
   {
    "duration": 1547,
    "start_time": "2023-01-30T04:55:00.421Z"
   },
   {
    "duration": 5,
    "start_time": "2023-01-30T04:55:14.469Z"
   },
   {
    "duration": 10,
    "start_time": "2023-01-30T04:56:49.788Z"
   },
   {
    "duration": 1320,
    "start_time": "2023-01-30T04:57:59.362Z"
   },
   {
    "duration": 220,
    "start_time": "2023-01-30T04:58:00.684Z"
   },
   {
    "duration": 11,
    "start_time": "2023-01-30T04:58:00.906Z"
   },
   {
    "duration": 24,
    "start_time": "2023-01-30T04:58:00.919Z"
   },
   {
    "duration": 43,
    "start_time": "2023-01-30T04:58:00.945Z"
   },
   {
    "duration": 64,
    "start_time": "2023-01-30T04:58:00.990Z"
   },
   {
    "duration": 58,
    "start_time": "2023-01-30T04:58:01.056Z"
   },
   {
    "duration": 126,
    "start_time": "2023-01-30T04:58:01.116Z"
   },
   {
    "duration": 0,
    "start_time": "2023-01-30T04:58:01.244Z"
   },
   {
    "duration": 0,
    "start_time": "2023-01-30T04:58:01.245Z"
   },
   {
    "duration": 0,
    "start_time": "2023-01-30T04:58:01.247Z"
   },
   {
    "duration": 0,
    "start_time": "2023-01-30T04:58:01.248Z"
   },
   {
    "duration": 0,
    "start_time": "2023-01-30T04:58:01.248Z"
   },
   {
    "duration": 0,
    "start_time": "2023-01-30T04:58:01.250Z"
   },
   {
    "duration": 0,
    "start_time": "2023-01-30T04:58:01.267Z"
   },
   {
    "duration": 0,
    "start_time": "2023-01-30T04:58:01.268Z"
   },
   {
    "duration": 0,
    "start_time": "2023-01-30T04:58:01.268Z"
   },
   {
    "duration": 0,
    "start_time": "2023-01-30T04:58:01.269Z"
   },
   {
    "duration": 0,
    "start_time": "2023-01-30T04:58:01.270Z"
   },
   {
    "duration": 0,
    "start_time": "2023-01-30T04:58:01.271Z"
   },
   {
    "duration": 0,
    "start_time": "2023-01-30T04:58:01.272Z"
   },
   {
    "duration": 0,
    "start_time": "2023-01-30T04:58:01.273Z"
   },
   {
    "duration": 0,
    "start_time": "2023-01-30T04:58:01.274Z"
   },
   {
    "duration": 11,
    "start_time": "2023-01-30T05:06:09.800Z"
   },
   {
    "duration": 21,
    "start_time": "2023-01-30T05:06:53.546Z"
   },
   {
    "duration": 11,
    "start_time": "2023-01-30T05:07:25.807Z"
   },
   {
    "duration": 13,
    "start_time": "2023-01-30T05:08:14.376Z"
   },
   {
    "duration": 19,
    "start_time": "2023-01-30T05:08:43.297Z"
   },
   {
    "duration": 9,
    "start_time": "2023-01-30T05:09:26.021Z"
   },
   {
    "duration": 12,
    "start_time": "2023-01-30T05:09:32.000Z"
   },
   {
    "duration": 13,
    "start_time": "2023-01-30T05:09:58.317Z"
   },
   {
    "duration": 8,
    "start_time": "2023-01-30T05:10:41.082Z"
   },
   {
    "duration": 8,
    "start_time": "2023-01-30T05:10:44.658Z"
   },
   {
    "duration": 1293,
    "start_time": "2023-01-30T05:10:52.074Z"
   },
   {
    "duration": 82,
    "start_time": "2023-01-30T05:10:53.368Z"
   },
   {
    "duration": 11,
    "start_time": "2023-01-30T05:10:53.452Z"
   },
   {
    "duration": 7,
    "start_time": "2023-01-30T05:10:53.465Z"
   },
   {
    "duration": 35,
    "start_time": "2023-01-30T05:10:53.474Z"
   },
   {
    "duration": 51,
    "start_time": "2023-01-30T05:10:53.510Z"
   },
   {
    "duration": 43,
    "start_time": "2023-01-30T05:10:53.568Z"
   },
   {
    "duration": 10,
    "start_time": "2023-01-30T05:10:53.612Z"
   },
   {
    "duration": 17,
    "start_time": "2023-01-30T05:10:53.623Z"
   },
   {
    "duration": 141974,
    "start_time": "2023-01-30T05:10:53.642Z"
   },
   {
    "duration": 7342,
    "start_time": "2023-01-30T05:13:15.618Z"
   },
   {
    "duration": 606,
    "start_time": "2023-01-30T05:13:22.961Z"
   },
   {
    "duration": 170503,
    "start_time": "2023-01-30T05:13:23.571Z"
   },
   {
    "duration": 8033,
    "start_time": "2023-01-30T05:16:14.076Z"
   },
   {
    "duration": 262,
    "start_time": "2023-01-30T05:16:22.111Z"
   },
   {
    "duration": 672853,
    "start_time": "2023-01-30T05:16:22.377Z"
   },
   {
    "duration": 10261,
    "start_time": "2023-01-30T05:27:35.232Z"
   },
   {
    "duration": 381,
    "start_time": "2023-01-30T05:27:45.495Z"
   },
   {
    "duration": 125369,
    "start_time": "2023-01-30T05:27:45.969Z"
   },
   {
    "duration": 4028,
    "start_time": "2023-01-30T05:29:51.340Z"
   },
   {
    "duration": 19,
    "start_time": "2023-01-30T05:29:55.371Z"
   },
   {
    "duration": 674678,
    "start_time": "2023-01-30T05:29:55.391Z"
   },
   {
    "duration": 150,
    "start_time": "2023-01-30T05:41:10.070Z"
   }
  ],
  "kernelspec": {
   "display_name": "Python 3 (ipykernel)",
   "language": "python",
   "name": "python3"
  },
  "language_info": {
   "codemirror_mode": {
    "name": "ipython",
    "version": 3
   },
   "file_extension": ".py",
   "mimetype": "text/x-python",
   "name": "python",
   "nbconvert_exporter": "python",
   "pygments_lexer": "ipython3",
   "version": "3.9.13"
  },
  "toc": {
   "base_numbering": 1,
   "nav_menu": {},
   "number_sections": true,
   "sideBar": true,
   "skip_h1_title": true,
   "title_cell": "Содержание",
   "title_sidebar": "Contents",
   "toc_cell": true,
   "toc_position": {
    "height": "calc(100% - 180px)",
    "left": "10px",
    "top": "150px",
    "width": "165px"
   },
   "toc_section_display": true,
   "toc_window_display": true
  }
 },
 "nbformat": 4,
 "nbformat_minor": 2
}
